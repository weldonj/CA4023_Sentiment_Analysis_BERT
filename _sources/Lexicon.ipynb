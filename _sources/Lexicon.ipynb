{
 "cells": [
  {
   "cell_type": "markdown",
   "metadata": {},
   "source": [
    "# Lexicon Approach\n",
    "\n",
    "For this approach I abandoned the previous work and structural setup. I used the sentiment lexicon by Minqing Hu and Bing Liu - Mining and Summarizing Customer Reviews. ACM SIGKDD-2004, found at http://www.cs.uic.edu/~liub/FBS/opinion-lexicon-English.rar\n",
    "\n",
    "This contains two .txt files, one with 2006 \"Positive\" words and one with 4683 \"Negative\" words. \n",
    "\n",
    "My plan was to store all of the positive words in a list, and all of the negative words in another list. I then take each of the txt files from our dataset and count how many positive words show up in it, and how many negative words show up in it. If there are more positive words than negative words I classified this document as positive and if the opposite were true I classified it as negative.\n",
    "\n",
    "I used the negation handling method that we saw earlier to preprocess our data set as I feel it should help when comparing the documents to the sentiment lexicon."
   ]
  },
  {
   "cell_type": "code",
   "execution_count": 13,
   "metadata": {},
   "outputs": [],
   "source": [
    "import os\n",
    "import string\n",
    "\n",
    "# Open the two files from the sentiment lexicon, \n",
    "# iterate through all of the words and add them to their respective lists\n",
    "with open('positive-words.txt', 'r') as pos_words, open('negative-words.txt', 'r') as neg_words:\n",
    "    pos_list = []\n",
    "    neg_list = []\n",
    "    for line in pos_words.readlines():\n",
    "        if (line[0] != \";\"):\n",
    "            pos_list.append(line[:-1])\n",
    "    for line in neg_words.readlines():\n",
    "        if (line[0] != \";\"):\n",
    "            neg_list.append(line[:-1])"
   ]
  },
  {
   "cell_type": "code",
   "execution_count": null,
   "metadata": {},
   "outputs": [],
   "source": [
    "# The function from earlier notebooks that I created to handle negation\n",
    "# Will add NOT_ to any string that follows another string ending in \"n't\"\n",
    "\n",
    "def handle_negation('./data/txt_sentoken_negation/pos_negation/', './data/txt_sentoken_negation/neg_negation/'):\n",
    "    file_list = os.listdir(in_path)\n",
    "    for file in file_list:\n",
    "        new_file = file + \"_new.txt\"\n",
    "        new_file_sentences = []\n",
    "        with open(in_path + file, 'r') as f, open(out_path + new_file, 'w+') as f_out:\n",
    "            for line in f.readlines():\n",
    "                new_line = ''\n",
    "                tokens = line.split()\n",
    "                i = 0\n",
    "                while i < len(tokens):\n",
    "\n",
    "                    if tokens[i][-3:] != \"n't\":\n",
    "                        new_line = new_line + tokens[i] + ' '\n",
    "                        i+=1\n",
    "                    \n",
    "                    else:\n",
    "                        new_line = new_line + tokens[i] + ' '\n",
    "                        try:\n",
    "                            while tokens[i+1] not in string.punctuation:\n",
    "                                new_line = new_line + 'NOT_' + tokens[i+1] + ' '\n",
    "                                i+=1\n",
    "                        except:\n",
    "                            print(\"end of sentence\")\n",
    "                        i+=1\n",
    "                new_file_sentences.append(new_line + '\\n')\n",
    "                \n",
    "            f_out.writelines(new_file_sentences)"
   ]
  },
  {
   "cell_type": "code",
   "execution_count": 24,
   "metadata": {},
   "outputs": [
    {
     "name": "stdout",
     "output_type": "stream",
     "text": [
      "0.645\n"
     ]
    }
   ],
   "source": [
    "# Will parse the original dataset which has now had negation added, and count how many of the words in each document\n",
    "# occur in the positive and negative sentiment lexicons. If positive count is higher than negative, its classified as positive\n",
    "\n",
    "in_path = './data/txt_sentoken_negation/pos_negation/'\n",
    "file_list = os.listdir(in_path)\n",
    "\n",
    "total = 0\n",
    "for file in file_list:\n",
    "    pos_count = 0\n",
    "    neg_count = 0\n",
    "    with open(in_path + file, 'r') as f:\n",
    "        for line in f.readlines():\n",
    "            for token in line.split():\n",
    "                if token in pos_list:\n",
    "                    pos_count += 1\n",
    "                elif token in neg_list:\n",
    "                    neg_count += 1\n",
    "        if pos_count > neg_count:\n",
    "            total += 1\n",
    "                    \n",
    "print(total/len(file_list))\n"
   ]
  },
  {
   "cell_type": "markdown",
   "metadata": {},
   "source": [
    "This gives us an accuracy of 0.645 (645 of 1000 documents that we know are positive are identified as positive)\n",
    "This means we have 645 true positives. As we know there can't be any false positives here we have 0. We know that the remaining documents from the positive 1000 that weren't marked positive must be false negatives, 355. We also know that we cannot have any true negatives here so that is 0. That gives us the following:"
   ]
  },
  {
   "cell_type": "code",
   "execution_count": 31,
   "metadata": {},
   "outputs": [],
   "source": [
    "# Simple calculations to get Precision, Recall, F1\n",
    "\n",
    "tp, fp, fn, tn = 645, 0, 355, 0\n",
    "prec = tp/(tp + fp)\n",
    "rec = tp/(tp + fn)\n",
    "f1_1 = (2*prec*rec)/(prec+rec)"
   ]
  },
  {
   "cell_type": "code",
   "execution_count": 32,
   "metadata": {},
   "outputs": [
    {
     "data": {
      "text/plain": [
       "0.78419452887538"
      ]
     },
     "execution_count": 32,
     "metadata": {},
     "output_type": "execute_result"
    }
   ],
   "source": [
    "f1_1"
   ]
  },
  {
   "cell_type": "markdown",
   "metadata": {},
   "source": [
    "The F1 score for this was **0.784**\n",
    "\n",
    "Now to run the same experiment to see how many of the 1000 negative documents get correctly classified as negative\n"
   ]
  },
  {
   "cell_type": "code",
   "execution_count": 25,
   "metadata": {},
   "outputs": [
    {
     "name": "stdout",
     "output_type": "stream",
     "text": [
      "0.73\n"
     ]
    }
   ],
   "source": [
    "# Will parse the original dataset which has now had negation added, and count how many of the words in each document\n",
    "# occur in the positive and negative sentiment lexicons. If negative count is higher than positive, its classified as negative\n",
    "\n",
    "in_path = './data/txt_sentoken_negation/neg_negation/'\n",
    "file_list = os.listdir(in_path)\n",
    "\n",
    "total = 0\n",
    "for file in file_list:\n",
    "    pos_count = 0\n",
    "    neg_count = 0\n",
    "    with open(in_path + file, 'r') as f:\n",
    "        for line in f.readlines():\n",
    "            for token in line.split():\n",
    "                if token in pos_list:\n",
    "                    pos_count += 1\n",
    "                elif token in neg_list:\n",
    "                    neg_count += 1\n",
    "        if pos_count < neg_count:\n",
    "            total += 1\n",
    "                    \n",
    "print(total/len(file_list))"
   ]
  },
  {
   "cell_type": "markdown",
   "metadata": {},
   "source": [
    "This gave an accuracy of 0.73 (730 of 1000 documents that we know are negative are identified as negative)\n",
    "This means we have 730 true positives. As we know there can't be any false positives here we have 0. We know that the remaining documents from the positive 1000 that weren't marked positive must be false negatives, 270. We also know that we cannot have any true negatives here so that is 0. That gives us the following:"
   ]
  },
  {
   "cell_type": "code",
   "execution_count": 33,
   "metadata": {},
   "outputs": [],
   "source": [
    "# Simple calculations to get Precision, Recall, F1\n",
    "\n",
    "tp, fp, fn, tn = 730, 0, 270, 0\n",
    "prec = tp/(tp + fp)\n",
    "rec = tp/(tp + fn)\n",
    "f1_2 = (2*prec*rec)/(prec+rec)"
   ]
  },
  {
   "cell_type": "code",
   "execution_count": 34,
   "metadata": {},
   "outputs": [
    {
     "data": {
      "text/plain": [
       "0.8439306358381503"
      ]
     },
     "execution_count": 34,
     "metadata": {},
     "output_type": "execute_result"
    }
   ],
   "source": [
    "f1_2"
   ]
  },
  {
   "cell_type": "markdown",
   "metadata": {},
   "source": [
    "The F1 score for this was **0.844**"
   ]
  },
  {
   "cell_type": "code",
   "execution_count": 35,
   "metadata": {},
   "outputs": [
    {
     "data": {
      "text/plain": [
       "0.8140625823567651"
      ]
     },
     "execution_count": 35,
     "metadata": {},
     "output_type": "execute_result"
    }
   ],
   "source": [
    "(f1_2 + f1_1)/ 2"
   ]
  },
  {
   "cell_type": "markdown",
   "metadata": {},
   "source": [
    "Averaging the two F1 scores gave me an overall F1 score for this Lexicon implementation of **0.814** which is fairly competitive when placed against the previous set ups"
   ]
  },
  {
   "cell_type": "code",
   "execution_count": null,
   "metadata": {},
   "outputs": [],
   "source": []
  }
 ],
 "metadata": {
  "kernelspec": {
   "display_name": "Python 3",
   "language": "python",
   "name": "python3"
  },
  "language_info": {
   "codemirror_mode": {
    "name": "ipython",
    "version": 3
   },
   "file_extension": ".py",
   "mimetype": "text/x-python",
   "name": "python",
   "nbconvert_exporter": "python",
   "pygments_lexer": "ipython3",
   "version": "3.6.10"
  }
 },
 "nbformat": 4,
 "nbformat_minor": 4
}
